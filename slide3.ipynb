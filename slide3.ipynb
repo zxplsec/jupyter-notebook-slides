{
 "cells": [
  {
   "cell_type": "code",
   "execution_count": 1,
   "metadata": {
    "collapsed": true,
    "slideshow": {
     "slide_type": "skip"
    }
   },
   "outputs": [],
   "source": [
    "%matplotlib inline"
   ]
  },
  {
   "cell_type": "markdown",
   "metadata": {
    "slideshow": {
     "slide_type": "skip"
    }
   },
   "source": [
    "<style type=\"text/css\">\n",
    ".reveal h1, .reveal h2 {\n",
    "    font-family:times\n",
    "}\n",
    "</style>"
   ]
  },
  {
   "cell_type": "raw",
   "metadata": {
    "slideshow": {
     "slide_type": "skip"
    }
   },
   "source": [
    "<link rel=\"stylesheet\" href=\"reveal.js/css/theme/white.css\" id=\"theme\">"
   ]
  },
  {
   "cell_type": "markdown",
   "metadata": {
    "slideshow": {
     "slide_type": "slide"
    }
   },
   "source": [
    "# 基本数据结构"
   ]
  },
  {
   "cell_type": "markdown",
   "metadata": {
    "slideshow": {
     "slide_type": "slide"
    }
   },
   "source": [
    "## 目标"
   ]
  },
  {
   "cell_type": "markdown",
   "metadata": {
    "slideshow": {
     "slide_type": "slide"
    }
   },
   "source": [
    "- 理解抽象数据类型的栈，队列，deque 和列表。\n",
    "- 能够使用 Python 列表实现 ADT 堆栈，队列和 deque。\n",
    "- 了解基本线性数据结构实现的性能。\n",
    "- 了解前缀、中缀和后缀表达式格式。\n",
    "- 使用栈来实现后缀表达式。\n",
    "- 使用栈将中缀表达式转换为后缀表达式。\n",
    "- 使用队列进行基本时序仿真。\n",
    "- 能够识别问题中栈，队列和 deques 数据结构的适当使用。\n",
    "- 能够使用节点和引用，将抽象数据类型列表实现为链表。\n",
    "- 能够比较我们的链表实现与 Python 的列表实现的性能。"
   ]
  },
  {
   "cell_type": "markdown",
   "metadata": {
    "slideshow": {
     "slide_type": "slide"
    }
   },
   "source": [
    "## 什么是线性数据结构"
   ]
  },
  {
   "cell_type": "markdown",
   "metadata": {
    "slideshow": {
     "slide_type": "slide"
    }
   },
   "source": [
    "我们从四个简单但重要的概念开始研究数据结构：\n",
    "- 栈（stack）\n",
    "- 队列（sequence）\n",
    "- 双端列表（deque）\n",
    "- 列表（list）\n",
    "\n",
    "它们都是一类数据的容器，数据项之间的顺序由添加或删除的顺序决定。一旦一个数据项被添加，它相对于前后元素一直保持该位置不变。\n",
    "\n",
    "诸如此类的数据结构被称为线性数据结构。"
   ]
  },
  {
   "cell_type": "markdown",
   "metadata": {
    "slideshow": {
     "slide_type": "slide"
    }
   },
   "source": [
    "- 线性数据结构有两端，有时被称为左、右，某些情况被称为前、后。你也可以称为顶部和底部，名字都不重要。\n",
    "\n",
    "- 将两个线性数据结构区分开的方法是添加和移除项的方式，特别是添加和移除项的位置。\n",
    "    - 例如一些结构允许从一端添加项，另一些允许从另一端移除项。\n",
    "\n",
    "这些变种的形式产生了计算机科学最有用的数据结构。他们出现在各种算法中，并可以用于解决很多重要的问题。"
   ]
  },
  {
   "cell_type": "markdown",
   "metadata": {
    "slideshow": {
     "slide_type": "slide"
    }
   },
   "source": [
    "## 什么是栈"
   ]
  },
  {
   "cell_type": "markdown",
   "metadata": {
    "slideshow": {
     "slide_type": "slide"
    }
   },
   "source": [
    "栈是一个项的有序集合，其中添加移除新项总发生在同一端。这一端通常称为“顶部”，与顶部对应的端称为“底部”。\n",
    "\n",
    "- 栈的底部很重要，因为在栈中靠近底部的项是存储时间最长的。\n",
    "- 最近添加的项是最先会被移除的。这种排序原则有时被称为 LIFO(last in first out)，后进先出。\n",
    "- 它基于在集合内的时间长度做排序。较新的项靠近顶部，较旧的项靠近底部。"
   ]
  },
  {
   "cell_type": "markdown",
   "metadata": {
    "slideshow": {
     "slide_type": "slide"
    }
   },
   "source": [
    "栈的例子很常见。\n",
    "- 几乎所有的自助餐厅都有一堆托盘或盘子，你从顶部拿一个，就会有一个新的托盘给下一个客人。\n",
    "\n",
    "- 想象桌上有一堆书(Figure 1), 只有顶部的那本书封面可见，要看到其他书的封面，只有先移除他们上面的书。\n",
    "<img align=\"center\" src=\"images/WhatIsStack1.png\"></img>\n",
    "\n",
    "\n",
    "- Figure 2 展示了另一个栈，包含了很多 Python 对象。\n",
    "\n",
    "<img align=\"center\" src=\"images/WhatIsStack2.png\"></img>\n"
   ]
  },
  {
   "cell_type": "markdown",
   "metadata": {
    "slideshow": {
     "slide_type": "slide"
    }
   },
   "source": [
    "和栈相关的最有用的想法之一来自对它的观察。\n",
    "\n",
    "假设从一个干净的桌面开始，现在把书一本本叠起来，你在构造一个栈。考虑下移除一本书会发生什么。移除的顺序跟刚刚被放置的顺序相反。栈之所以重要是因为它能反转项的顺序。插入跟删除顺序相反，Figure 3 展示了 Python 数据对象创建和删除的过程，注意观察他们的顺序。\n",
    "\n",
    "<img align=\"center\" src=\"images/WhatIsStack3.png\"></img>\n"
   ]
  },
  {
   "cell_type": "markdown",
   "metadata": {
    "slideshow": {
     "slide_type": "slide"
    }
   },
   "source": [
    "想想这种反转的属性，你可以想到使用计算机的时候所碰到的例子。例如，每个 web 浏览器都有一个返回按钮。当你浏览网页时，这些网页被放置在一个栈中（实际是网页的网址）。你现在查看的网页在顶部，你第一个查看的网页在底部。如果按‘返回’按钮，将按相反的顺序浏览刚才的页面。"
   ]
  },
  {
   "cell_type": "markdown",
   "metadata": {
    "slideshow": {
     "slide_type": "slide"
    }
   },
   "source": [
    "## 栈的抽象数据类型"
   ]
  },
  {
   "cell_type": "markdown",
   "metadata": {
    "slideshow": {
     "slide_type": "slide"
    }
   },
   "source": [
    "栈的抽象数据类型由以下结构和操作定义。如上所述，栈被构造为项的有序集合，其中项被添加和从末端移除的位置称为“顶部”。栈是有序的 LIFO 。栈操作如下。\n",
    "\n",
    "- Stack() 创建一个空的新栈。 它不需要参数，并返回一个空栈。\n",
    "- push(item)将一个新项添加到栈的顶部。它需要 item 做参数并不返回任何内容。\n",
    "- pop() 从栈中删除顶部项。它不需要参数并返回 item 。栈被修改。\n",
    "- peek() 从栈返回顶部项，但不会删除它。不需要参数。 不修改栈。\n",
    "- isEmpty() 测试栈是否为空。不需要参数，并返回布尔值。\n",
    "- size() 返回栈中的 item 数量。不需要参数，并返回一个整数。"
   ]
  },
  {
   "cell_type": "markdown",
   "metadata": {
    "slideshow": {
     "slide_type": "slide"
    }
   },
   "source": [
    "<img align=\"center\" src=\"images/stack_table1.png\"></img>\n"
   ]
  },
  {
   "cell_type": "markdown",
   "metadata": {
    "slideshow": {
     "slide_type": "slide"
    }
   },
   "source": [
    "## Python实现栈"
   ]
  },
  {
   "cell_type": "markdown",
   "metadata": {
    "slideshow": {
     "slide_type": "slide"
    }
   },
   "source": [
    "现在我们已经将栈清楚地定义了抽象数据类型，我们将把注意力转向使用 Python 实现栈。回想一下，当我们给抽象数据类型一个物理实现时，我们将实现称为数据结构。\n",
    "\n",
    "正如我们在第1章中所描述的，在 Python 中，与任何面向对象编程语言一样，抽象数据类型（如栈）的选择的实现是创建一个新类。栈操作实现为类的方法。此外，为了实现作为元素集合的栈，使用由 Python 提供的原语集合的能力是有意义的。 我们将使用列表作为底层实现。"
   ]
  },
  {
   "cell_type": "markdown",
   "metadata": {
    "slideshow": {
     "slide_type": "slide"
    }
   },
   "source": [
    "回想一下，Python 中的列表类提供了有序集合机制和一组方法。例如，如果我们有列表 [2,5,3,6,7,4]，我们只需要确定列表的哪一端将被认为是栈的顶部。一旦确定，可以使用诸如 append 和 pop 的列表方法来实现操作。\n",
    "\n",
    "以下栈实现假定列表的结尾将保存栈的顶部元素。随着栈增长（push 操作），新项将被添加到列表的末尾。 pop 也操作列表末尾的元素。"
   ]
  },
  {
   "cell_type": "code",
   "execution_count": 2,
   "metadata": {
    "collapsed": true,
    "slideshow": {
     "slide_type": "slide"
    }
   },
   "outputs": [],
   "source": [
    "class Stack:\n",
    "     def __init__(self):\n",
    "         self.items = []\n",
    "\n",
    "     def isEmpty(self):\n",
    "         return self.items == []\n",
    "\n",
    "     def push(self, item):\n",
    "         self.items.append(item)\n",
    "\n",
    "     def pop(self):\n",
    "         return self.items.pop()\n",
    "\n",
    "     def peek(self):\n",
    "         return self.items[len(self.items)-1]\n",
    "\n",
    "     def size(self):\n",
    "         return len(self.items)"
   ]
  },
  {
   "cell_type": "markdown",
   "metadata": {
    "slideshow": {
     "slide_type": "slide"
    }
   },
   "source": [
    "记住我们只定义类的实现，我们需要创建一个栈，然后使用它。ActiveCode 2 展示了我们通过实例化 Stack 类执行 Table 1中的操作。注意，Stack 类的定义是从 pythonds 模块导入的。"
   ]
  },
  {
   "cell_type": "code",
   "execution_count": 4,
   "metadata": {
    "slideshow": {
     "slide_type": "slide"
    }
   },
   "outputs": [
    {
     "name": "stdout",
     "output_type": "stream",
     "text": [
      "True\n",
      "dog\n",
      "3\n",
      "False\n",
      "8.4\n",
      "True\n",
      "2\n"
     ]
    }
   ],
   "source": [
    "s=Stack()\n",
    "\n",
    "print(s.isEmpty())\n",
    "s.push(4)\n",
    "s.push('dog')\n",
    "print(s.peek())\n",
    "s.push(True)\n",
    "print(s.size())\n",
    "print(s.isEmpty())\n",
    "s.push(8.4)\n",
    "print(s.pop())\n",
    "print(s.pop())\n",
    "print(s.size())"
   ]
  },
  {
   "cell_type": "markdown",
   "metadata": {
    "slideshow": {
     "slide_type": "slide"
    }
   },
   "source": [
    "## 简单括号匹配"
   ]
  },
  {
   "cell_type": "markdown",
   "metadata": {
    "slideshow": {
     "slide_type": "slide"
    }
   },
   "source": [
    "我们现在把注意力转向使用栈解决真正的计算机问题。\n",
    "\n",
    "- 你会这么写算术表达式\n",
    "\n",
    "    `(5 + 6) ∗ (7 + 8) / (4 + 3)`\n",
    "\n",
    "其中括号用于命令操作的执行。\n",
    "\n",
    "- 你可能也有一些语言的经验，如 Lisp 的构造\n",
    "\n",
    "    `(defun square(n) (* n n))`\n",
    " \n",
    " 这段代码定义了一个名为 square 的函数，它将返回参数的 n 的平方。 Lisp 使用大量的圆括号是臭名昭著的。"
   ]
  },
  {
   "cell_type": "markdown",
   "metadata": {
    "slideshow": {
     "slide_type": "slide"
    }
   },
   "source": [
    "在这两个例子中，括号必须以匹配的方式出现。括号匹配意味着每个开始符号具有相应的结束符号，并且括号能被正确嵌套。考虑下面正确匹配的括号字符串：\n",
    "\n",
    "`(()()()())`\n",
    "\n",
    "`(((())))`\n",
    "\n",
    "`(()((())()))`\n",
    "\n",
    "对比那些不匹配的括号：\n",
    "\n",
    "`((((((())`\n",
    "\n",
    "`()))`\n",
    "\n",
    "`(()()(()`\n"
   ]
  },
  {
   "cell_type": "markdown",
   "metadata": {
    "slideshow": {
     "slide_type": "slide"
    }
   },
   "source": [
    "区分括号是否匹配的能力是识别很多编程语言结构的重要部分。具有挑战的是如何编写一个算法，能够从左到右读取一串符号，并决定符号是否平衡。为了解决这个问题，我们需要做一个重要的观察。\n",
    "\n",
    "- 从左到右处理符号时，最近开始符号必须与下一个关闭符号相匹配\n",
    "- 此外，处理的第一个开始符号必须等待直到其匹配最后一个符号。\n",
    "- 结束符号以相反的顺序匹配开始符号。\n",
    "- 他们从内到外匹配。\n",
    "\n",
    "这是一个可以用栈解决问题的线索。\n",
    "\n",
    "<img align=\"center\" src=\"images/simpleparcheck.png\"></img>\n"
   ]
  },
  {
   "cell_type": "markdown",
   "metadata": {
    "slideshow": {
     "slide_type": "slide"
    }
   },
   "source": [
    "一旦你认为栈是保存括号的恰当的数据结构，算法是很直接的。从空栈开始，从左到右处理括号字符串。如果一个符号是一个开始符号，将其作为一个信号，对应的结束符号稍后会出现。另一方面，如果符号是结束符号，弹出栈，只要弹出栈的开始符号可以匹配每个结束符号，则括号保持匹配状态。如果任何时候栈上没有出现符合开始符号的结束符号，则字符串不匹配。最后，当所有符号都被处理后，栈应该是空的。"
   ]
  },
  {
   "cell_type": "code",
   "execution_count": null,
   "metadata": {
    "collapsed": true,
    "slideshow": {
     "slide_type": "slide"
    }
   },
   "outputs": [],
   "source": [
    "def parChecker(symbolString):\n",
    "    s = Stack()\n",
    "    balanced = True\n",
    "    index = 0\n",
    "    while index < len(symbolString) and balanced:\n",
    "        symbol = symbolString[index]\n",
    "        if symbol == \"(\":\n",
    "            s.push(symbol)\n",
    "        else:\n",
    "            if s.isEmpty():\n",
    "                balanced = False\n",
    "            else:\n",
    "                s.pop()\n",
    "\n",
    "        index = index + 1\n",
    "\n",
    "    if balanced and s.isEmpty():\n",
    "        return True\n",
    "    else:\n",
    "        return False"
   ]
  },
  {
   "cell_type": "code",
   "execution_count": 7,
   "metadata": {
    "slideshow": {
     "slide_type": "subslide"
    }
   },
   "outputs": [
    {
     "name": "stdout",
     "output_type": "stream",
     "text": [
      "True\n",
      "False\n"
     ]
    }
   ],
   "source": [
    "print(parChecker('((()))'))\n",
    "print(parChecker('(()'))"
   ]
  },
  {
   "cell_type": "markdown",
   "metadata": {
    "slideshow": {
     "slide_type": "slide"
    }
   },
   "source": [
    "## 符号匹配"
   ]
  },
  {
   "cell_type": "markdown",
   "metadata": {
    "slideshow": {
     "slide_type": "slide"
    }
   },
   "source": [
    "上面显示的匹配括号问题是许多编程语言都会出现的一般情况的特定情况。匹配和嵌套不同种类的开始和结束符号的情况经常发生。例如，在 Python 中，方括号 [ 和 ] 用于列表，花括号 { 和 } 用于字典。括号 ( 和 ) 用于元组和算术表达式。只要每个符号都能保持自己的开始和结束关系，就可以混合符号。"
   ]
  },
  {
   "cell_type": "markdown",
   "metadata": {
    "slideshow": {
     "slide_type": "slide"
    }
   },
   "source": [
    "符号字符串如\n",
    "\n",
    "`{ { ( [ ] [ ] ) } ( ) }`\n",
    "\n",
    "`[ [ { { ( ( ) ) } } ] ]`\n",
    "\n",
    "`[ ] [ ] [ ] ( ) { }`\n",
    "\n",
    "这些被恰当的匹配了，因为不仅每个开始符号都有对应的结束符号，而且符号的类型也匹配。"
   ]
  },
  {
   "cell_type": "markdown",
   "metadata": {
    "slideshow": {
     "slide_type": "slide"
    }
   },
   "source": [
    "相反这些字符串没法匹配：\n",
    "\n",
    "`( [ ) ]`\n",
    "\n",
    "`( ( ( ) ] ) )`\n",
    "\n",
    "`[ { ( ) ]`\n"
   ]
  },
  {
   "cell_type": "markdown",
   "metadata": {
    "slideshow": {
     "slide_type": "slide"
    }
   },
   "source": [
    "上节的简单括号检查程序可以轻松的扩展处理这些新类型的符号。回想一下，每个开始符号被简单的压入栈中，等待匹配的结束符号出现。当出现结束符号时，唯一的区别是我们必须检查确保它正确匹配栈顶部开始符号的类型。如果两个符号不匹配，则字符串不匹配。如果整个字符串都被处理完并且没有什么留在栈中，则字符串匹配。"
   ]
  },
  {
   "cell_type": "code",
   "execution_count": null,
   "metadata": {
    "collapsed": true,
    "slideshow": {
     "slide_type": "slide"
    }
   },
   "outputs": [],
   "source": [
    "def parChecker(symbolString):\n",
    "    s = Stack()\n",
    "    balanced = True\n",
    "    index = 0\n",
    "    while index < len(symbolString) and balanced:\n",
    "        symbol = symbolString[index]\n",
    "        if symbol in \"([{\":\n",
    "            s.push(symbol)\n",
    "        else:\n",
    "            if s.isEmpty():\n",
    "                balanced = False\n",
    "            else:\n",
    "                top = s.pop()\n",
    "                if not matches(top,symbol):\n",
    "                       balanced = False\n",
    "        index = index + 1\n",
    "    if balanced and s.isEmpty():\n",
    "        return True\n",
    "    else:\n",
    "        return False"
   ]
  },
  {
   "cell_type": "code",
   "execution_count": null,
   "metadata": {
    "collapsed": true,
    "slideshow": {
     "slide_type": "subslide"
    }
   },
   "outputs": [],
   "source": [
    "def matches(open,close):\n",
    "    opens = \"([{\"\n",
    "    closers = \")]}\"\n",
    "    return opens.index(open) == closers.index(close)"
   ]
  },
  {
   "cell_type": "code",
   "execution_count": 8,
   "metadata": {
    "slideshow": {
     "slide_type": "subslide"
    }
   },
   "outputs": [
    {
     "name": "stdout",
     "output_type": "stream",
     "text": [
      "True\n",
      "False\n"
     ]
    }
   ],
   "source": [
    "print(parChecker('{{([][])}()}'))\n",
    "print(parChecker('[{()]'))"
   ]
  },
  {
   "cell_type": "markdown",
   "metadata": {
    "slideshow": {
     "slide_type": "slide"
    }
   },
   "source": [
    "这两个例子表明，栈是计算机语言结构处理非常重要的数据结构。几乎你能想到的任何嵌套符号必须按照平衡匹配的顺序。栈还有其他重要的用途，我们将在接下来的部分讨论。"
   ]
  },
  {
   "cell_type": "markdown",
   "metadata": {
    "slideshow": {
     "slide_type": "slide"
    }
   },
   "source": [
    "## 十进制转换成二进制"
   ]
  },
  {
   "cell_type": "markdown",
   "metadata": {
    "slideshow": {
     "slide_type": "slide"
    }
   },
   "source": [
    "在你学习计算机的过程中，你可能已经接触了二进制。二进制在计算机科学中是很重要的，因为存储在计算机内的所有值都是以 0 和 1 存储的。如果没有能力在二进制数和普通字符串之间转换，我们与计算机之间的交互非常棘手。\n",
    "\n",
    "整数值是常见的数据项。他们一直用于计算机程序和计算。我们在数学课上学习它们，当然最后用十进制或者基数 10 来表示它们。十进制 $(233)_{10}$ 以及对应的二进制表示 $(11101001)_2$ 分别解释为\n",
    "\n",
    "$$\n",
    "2\\times 10^2 + 3\\times 10^1 + 3\\times 10^0\n",
    "$$\n",
    "$$5\n",
    "1\\times 2^7 + 1\\times 2^6 + 1\\times 2^5 + 0\\times 2^4 + 1\\times 2^3 +  \n",
    "0\\times 2^2 + 0\\times 2^1 + 1\\times 2^0\n",
    "$$\n",
    "但是我们如何能够容易地将整数值转换为二进制呢？答案是 “除 2”算法，它用栈来跟踪二进制结果的数字。"
   ]
  },
  {
   "cell_type": "markdown",
   "metadata": {
    "slideshow": {
     "slide_type": "slide"
    }
   },
   "source": [
    "“除 2” 算法假定我们从大于 0 的整数开始。不断迭代的将十进制除以 2，并跟踪余数。第一个除以 2 的余数说明了这个值是偶数还是奇数。偶数有 0 的余数，记为 0。奇数有余数 1，记为 1。\n",
    "\n",
    "我们将得到的二进制构建为数字序列，第一个余数实际上是序列中的最后一个数字。我们再次看到了反转的属性，表示栈可能是解决这个问题的数据结构。\n",
    "\n",
    "<img align=\"center\" src=\"images/dec2bin.png\"></img>\n"
   ]
  },
  {
   "cell_type": "code",
   "execution_count": null,
   "metadata": {
    "collapsed": true,
    "slideshow": {
     "slide_type": "slide"
    }
   },
   "outputs": [],
   "source": [
    "def divideBy2(decNumber):\n",
    "    remstack = Stack()\n",
    "\n",
    "    while decNumber > 0:\n",
    "        rem = decNumber % 2\n",
    "        remstack.push(rem)\n",
    "        decNumber = decNumber // 2\n",
    "\n",
    "    binString = \"\"\n",
    "    while not remstack.isEmpty():\n",
    "        binString = binString + str(remstack.pop())\n",
    "\n",
    "    return binString"
   ]
  },
  {
   "cell_type": "code",
   "execution_count": 10,
   "metadata": {
    "slideshow": {
     "slide_type": "subslide"
    }
   },
   "outputs": [
    {
     "name": "stdout",
     "output_type": "stream",
     "text": [
      "101010\n"
     ]
    }
   ],
   "source": [
    "print(divideBy2(42))"
   ]
  },
  {
   "cell_type": "markdown",
   "metadata": {
    "slideshow": {
     "slide_type": "slide"
    }
   },
   "source": [
    "这个用于二进制转换的算法可以很容易的扩展以执行任何基数的转换。在计算机科学中，通常会使用很多不同的编码。其中最常见的是二级制，八进制和十六进制。\n",
    "\n",
    "$(233)_{10}$对应的八进制和十六进制分别为： $(351)_8$, $(E9)_{16}$，可表示为：\n",
    "$$\n",
    "3\\times 8^2 + 5\\times 8^1 + 1\\times 8^0\n",
    "$$\n",
    "$$\n",
    "14\\times 16^1 + 9 \\times 16^0\n",
    "$$"
   ]
  },
  {
   "cell_type": "markdown",
   "metadata": {
    "slideshow": {
     "slide_type": "slide"
    }
   },
   "source": [
    "可以修改 divideBy2 函数，使它不仅能接受十进制参数，还能接受预期转换的基数。‘除 2’ 的概念被简单的替换成更通用的 ‘除基数’。在 ActiveCode2 展示的是一个名为 baseConverter 函数。采用十进制数和 2 到 16 之间的任何基数作为参数。余数部分仍然入栈，直到被转换的值为 0。我们创建一组数字，用来表示超过 9 的余数。"
   ]
  },
  {
   "cell_type": "code",
   "execution_count": 13,
   "metadata": {
    "collapsed": true,
    "slideshow": {
     "slide_type": "slide"
    }
   },
   "outputs": [],
   "source": [
    "def baseConverter(decNumber,base):\n",
    "    digits = \"0123456789ABCDEF\"\n",
    "\n",
    "    remstack = Stack()\n",
    "\n",
    "    while decNumber > 0:\n",
    "        rem = decNumber % base\n",
    "        remstack.push(rem)\n",
    "        decNumber = decNumber // base\n",
    "\n",
    "    newString = \"\"\n",
    "    while not remstack.isEmpty():\n",
    "        newString = newString + digits[remstack.pop()]\n",
    "\n",
    "    return newString"
   ]
  },
  {
   "cell_type": "code",
   "execution_count": 14,
   "metadata": {
    "slideshow": {
     "slide_type": "subslide"
    }
   },
   "outputs": [
    {
     "name": "stdout",
     "output_type": "stream",
     "text": [
      "11001\n",
      "19\n"
     ]
    }
   ],
   "source": [
    "print(baseConverter(25,2))\n",
    "print(baseConverter(25,16))"
   ]
  },
  {
   "cell_type": "markdown",
   "metadata": {
    "slideshow": {
     "slide_type": "slide"
    }
   },
   "source": [
    "## 中缀前缀和后缀表达式"
   ]
  },
  {
   "cell_type": "markdown",
   "metadata": {
    "slideshow": {
     "slide_type": "slide"
    }
   },
   "source": [
    "当你编写一个算术表达式如 `B * C` 时，表达式的形式使你能够正确理解它。在这种情况下，你知道 B 乘以 C, 因为乘法运算符 * 出现在表达式中。这种类型的符号称为中缀，因为运算符在它处理的两个操作数之间。\n",
    "\n",
    "看另外一个中缀示例，`A + B * C`，运算符 `+` 和 `*` 仍然出现在操作数之间。这里面有个问题是，他们分别作用于哪个运算数上，`+` 作用于 A 和 B , 还是 `*` 作用于 B 和 C？表达式似乎有点模糊。"
   ]
  },
  {
   "cell_type": "markdown",
   "metadata": {
    "slideshow": {
     "slide_type": "slide"
    }
   },
   "source": [
    "事实上，你已经读写过这些类型的表达式很长一段时间，所以它们对你不会导致什么问题。这是因为你知道运算符 `+` 和 `*`。每个运算符都有一个优先级。优先级较高的运算符在优先级较低的运算符之前使用。唯一改变顺序的是括号的存在。算术运算符的优先顺序是将乘法和除法置于加法和减法之上。如果出现具有相等优先级的两个运算符，则使用从左到右的顺序排序或关联。"
   ]
  },
  {
   "cell_type": "markdown",
   "metadata": {
    "slideshow": {
     "slide_type": "slide"
    }
   },
   "source": [
    "我们使用运算符优先级来解释下表达式 `A + B * C`。`B` 和 `C` 首先相乘，然后将 `A` 与该结果相加。`(A + B) * C` 将强制在乘法之前执行 `A` 和 `B` 的加法。在表达式 `A + B + C` 中，最左边的 `+` 首先使用。"
   ]
  },
  {
   "cell_type": "markdown",
   "metadata": {
    "slideshow": {
     "slide_type": "slide"
    }
   },
   "source": [
    "虽然这一切对你来说都很明显。但请记住，计算机需要准确知道要执行的操作符和顺序。一种保证不会对操作顺序产生混淆的表达式的方法是创建一个称为完全括号表达式的表达式。这种类型的表达式对每个运算符都使用一对括号。括号没有歧义的指示操作的顺序。也没有必要记住任何优先规则。"
   ]
  },
  {
   "cell_type": "markdown",
   "metadata": {
    "slideshow": {
     "slide_type": "fragment"
    }
   },
   "source": [
    "- `A + B * C + D` 可以重写为 `((A + (B * C)) + D)` ，表明先乘法，然后是左边的加法;\n",
    "- `A + B + C + D` 可以重写为 `(((A + B) + C) + D)`，因为加法操作从左向右相关联。"
   ]
  },
  {
   "cell_type": "markdown",
   "metadata": {
    "slideshow": {
     "slide_type": "slide"
    }
   },
   "source": [
    "有两种非常重要的表达式格式，你可能一开始不会很明显的看出来。对于中缀表达式 `A + B`,\n",
    "- 如果我们移动两个操作数之间的运算符会发生什么？结果表达式变成 `+ A B`。\n",
    "- 同样，我们也可以将运算符移动到结尾，得到 `A B +` ，这样看起来有点奇怪。"
   ]
  },
  {
   "cell_type": "markdown",
   "metadata": {
    "slideshow": {
     "slide_type": "slide"
    }
   },
   "source": [
    "改变操作符的位置得到了两种新的表达式格式，前缀和后缀。\n",
    "- 前缀表达式要求所有运算符在它们处理的两个操作数之前。\n",
    "- 后缀表达式要求所有运算符在相应的操作数之后。"
   ]
  },
  {
   "cell_type": "markdown",
   "metadata": {
    "slideshow": {
     "slide_type": "slide"
    }
   },
   "source": [
    "- 中缀表达式： `A + B * C`   \n",
    "- 前缀表达式： `+ A * B C`\n",
    "    - 操作数顺序不变，`*` 紧接在 `B` 和 `C` 之前，表示 `*` 优先于 `+`。然后 `+` 出现在 `A` 和乘法的结果之前。\n",
    "- 后缀表达式： `A B C * +`\n",
    "    - 操作数顺序不变，因为 `*` 紧接在 `B` 和 `C` 之后出现，表示 `*` 具有高优先级，`+` 优先级低。\n",
    "\n",
    "虽然操作符在它们各自的操作数前后移动，但是操作数的顺序相对于彼此保持完全相同。"
   ]
  },
  {
   "cell_type": "markdown",
   "metadata": {
    "slideshow": {
     "slide_type": "slide"
    }
   },
   "source": [
    "现在考虑中缀表达式 `(A + B) * C`。\n",
    "\n",
    "- 回想下，在这种情况下，中缀需要括号在乘法之前强制执行加法。\n",
    "\n",
    "- 写成前缀表达式时， \n",
    "    1. `+` 简单的移动到 `A B` 之前， 得 `+ A B`。这个操作的结果成为乘法的第一个操作数。\n",
    "    2. `*` 移动到整个表达式的前面，得出 `* + A B C`。\n",
    "\n",
    "- 写成后缀表达式时，\n",
    "    1. `+` 简单的移动到 `A B` 之后， 得 `A B +`。这个操作的结果成为乘法的第一个操作数。\n",
    "    2. `*` 移动到整个表达式的后面，得出 `A B + C *`"
   ]
  },
  {
   "cell_type": "markdown",
   "metadata": {
    "slideshow": {
     "slide_type": "slide"
    }
   },
   "source": [
    "再次考虑这三个表达式\n",
    "\n",
    "`(A + B) * C`\n",
    "\n",
    "`* + A B C`\n",
    "\n",
    "`A B + C *`\n",
    "\n",
    "为什么在前缀和后缀的时候不需要括号了呢？\n",
    "\n",
    "操作符对于他们的操作数不再模糊，只有中缀才需要括号，前缀和后缀表达式的操作顺序完全由操作符的顺序决定。"
   ]
  },
  {
   "cell_type": "markdown",
   "metadata": {
    "slideshow": {
     "slide_type": "slide"
    }
   },
   "source": [
    "| Infix Expression |||| Prefix Expression |||| Postfix Expression |\n",
    "| :--------------: |||| :---------------: |||| :----------------: |\n",
    "| `A + B * C + D`  |||| `+ + A * B  C  D` |||| `A  B  C * + D +`  |\n",
    "| `(A + B) * (C + D)`  |||| `* + A  B  + C  D` |||| `A  B + C  D + *`  |\n",
    "| `A + B + C + D`  |||| `+ + + A  B  C  D` |||| `A  B + C + D +`  |\n"
   ]
  },
  {
   "cell_type": "markdown",
   "metadata": {
    "slideshow": {
     "slide_type": "slide"
    }
   },
   "source": [
    "### 中缀表达式转换前缀和后缀"
   ]
  },
  {
   "cell_type": "markdown",
   "metadata": {
    "slideshow": {
     "slide_type": "slide"
    }
   },
   "source": [
    "到目前为止，我们已经使用特定方法在中缀表达式和等效前缀和后缀表达式符号之间进行转换。正如你可能期望的，有一些算法来执行转换，允许任何复杂表达式转换。\n",
    "\n",
    "我们考虑的第一种技术使用前面讨论的完全括号表达式的概念。回想一下，`A + B * C` 可以写成 `（A +（B * C））`，以明确标识乘法优先于加法。然而，仔细观察，你可以看到每个括号对还表示操作数对的开始和结束，中间有相应的运算符。"
   ]
  },
  {
   "cell_type": "markdown",
   "metadata": {
    "slideshow": {
     "slide_type": "slide"
    }
   },
   "source": [
    "看上面的子表达式 `（B * C）` 中的右括号。 如果我们将乘法符号移动到那个位置，并删除匹配的左括号，得到 `B C *` ，我们实际上已经将子表达式转换为后缀符号。 如果加法运算符也被移动到其相应的右括号位置并且匹配的左括号被去除，则将得到完整的后缀表达式。\n",
    "\n",
    "<img align=\"center\" src=\"images/infix2postfix.png\" width=\"120%\" height=\"120%\"></img>"
   ]
  },
  {
   "cell_type": "markdown",
   "metadata": {
    "slideshow": {
     "slide_type": "slide"
    }
   },
   "source": [
    "如果我们不是将符号移动到右括号的位置，我们将它向左移动，我们得到前缀符号。圆括号对的位置实际上是包含的运算符的最终位置的线索。\n",
    "\n",
    "<img align=\"center\" src=\"images/infix2prefix.png\" width=\"120%\" height=\"120%\"></img>"
   ]
  },
  {
   "cell_type": "markdown",
   "metadata": {
    "slideshow": {
     "slide_type": "slide"
    }
   },
   "source": [
    "所以为了转换表达式，无论是对前缀还是后缀符号，先根据操作的顺序把表达式转换成完全括号表达式。然后将包含的运算符移动到左或右括号的位置，具体取决于需要前缀或后缀符号。"
   ]
  },
  {
   "cell_type": "markdown",
   "metadata": {
    "slideshow": {
     "slide_type": "slide"
    }
   },
   "source": [
    "这里面有个更复杂的例子, 将 `(A + B) * C - (D - E) * (F + G) ` 转换为前缀与后缀表达式，下图显示了如何转换为后缀和前缀。\n",
    "\n",
    "<img align=\"center\" src=\"images/infix2prepostfix.png\" width=\"120%\" height=\"120%\"></img>"
   ]
  },
  {
   "cell_type": "markdown",
   "metadata": {
    "slideshow": {
     "slide_type": "slide"
    }
   },
   "source": [
    "### 中缀转后缀通用法"
   ]
  },
  {
   "cell_type": "markdown",
   "metadata": {
    "slideshow": {
     "slide_type": "slide"
    }
   },
   "source": [
    "我们需要开发一个算法来将任何中缀表达式转换为后缀表达式。 为了做到这一点，我们仔细看看转换过程。\n",
    "\n",
    "再次考虑表达式 `A + B * C`，其后缀表达式为`A B C * +`。 注意在转换过程中，\n",
    "1. 操作数 `A`，`B` 和 `C` 保持在相对位置不变。\n",
    "2. 只有操作符改变位置。\n",
    "\n",
    "再看中缀表达式中，从左到右出现的第一个运算符为 `+`。 而在后缀表达式中，`+` 在结束位置，因为下一个运算符 `*` 的优先级高于 `+`。 原始表达式中的运算符的顺序在生成的后缀表达式中相反。"
   ]
  },
  {
   "cell_type": "markdown",
   "metadata": {
    "slideshow": {
     "slide_type": "slide"
    }
   },
   "source": [
    "假设中缀表达式是一个由空格分隔的标记字符串。 操作符标记是 `*` ， `/` ， `+` 和 `-` ，以及左右括号。操作数是单字符 `A`，`B`，`C` 等。 以下步骤将后缀顺序生成一个字符串。\n",
    "\n",
    "1. 创建一个名为 opstack 的空栈以保存运算符。给输出创建一个空列表。\n",
    "2. 通过使用字符串方法拆分将输入的中缀字符串转换为标记列表。\n",
    "3. 从左到右扫描标记列表。\n",
    "    - 如果标记是操作数，将其附加到输出列表的末尾。\n",
    "    - 如果标记是左括号，将其压到 opstack 上。\n",
    "    - 如果标记是右括号，则弹出 opstack，直到删除相应的左括号。将每个运算符 附加到输出列表的末尾。\n",
    "    - 如果标记是运算符， `*` ， `/` ， `+` 或 `-` ，将其压入 opstack。但是，首先删除已经 在 opstack 中具有更高或相等优先级的任何运算符，并将它们加到输出列表中。\n",
    "4. 当输入表达式被完全处理时，检查 opstack。仍然在栈上的任何运算符都可以删除并加到输出列表的末尾。\n"
   ]
  },
  {
   "cell_type": "markdown",
   "metadata": {
    "slideshow": {
     "slide_type": "subslide"
    }
   },
   "source": [
    "例. 将 `A * B + C * D` 转换为后缀表达式\n",
    "\n",
    "<img align=\"center\" src=\"images/infix2postfix1.png\" width=\"120%\" height=\"120%\"></img>"
   ]
  },
  {
   "cell_type": "markdown",
   "metadata": {
    "slideshow": {
     "slide_type": "slide"
    }
   },
   "source": [
    "为了在 Python 中编写算法，我们使用一个名为 prec 的字典来保存操作符的优先级。这个字典将每个运算符映射到一个整数，可以与其他运算符的优先级（我们使用整数3，2和1）进行比较。左括号将赋予最低的值。这样，与其进行比较的任何运算符将具有更高的优先级，将被放置在它的顶部。第13行将操作数定义为任何大写字符或数字。"
   ]
  },
  {
   "cell_type": "code",
   "execution_count": null,
   "metadata": {
    "collapsed": true,
    "slideshow": {
     "slide_type": "slide"
    }
   },
   "outputs": [],
   "source": [
    "def infix2Postfix(infixexpr):\n",
    "    prec = {}\n",
    "    prec[\"*\"] = 3\n",
    "    prec[\"/\"] = 3\n",
    "    prec[\"+\"] = 2\n",
    "    prec[\"-\"] = 2\n",
    "    prec[\"(\"] = 1\n",
    "    opStack = Stack()\n",
    "    postfixList = []\n",
    "    tokenList = infixexpr.split()\n",
    "    "
   ]
  },
  {
   "cell_type": "code",
   "execution_count": null,
   "metadata": {
    "collapsed": true,
    "slideshow": {
     "slide_type": "subslide"
    }
   },
   "outputs": [],
   "source": [
    "    for token in tokenList:\n",
    "        if token in \"ABCDEFGHIJKLMNOPQRSTUVWXYZ\" or token in \"0123456789\":\n",
    "            postfixList.append(token)\n",
    "        elif token == '(':\n",
    "            opStack.push(token)\n",
    "        elif token == ')':\n",
    "            topToken = opStack.pop()\n",
    "            while topToken != '(':\n",
    "                postfixList.append(topToken)\n",
    "                topToken = opStack.pop()\n",
    "        else:\n",
    "            while (not opStack.isEmpty()) and \\\n",
    "               (prec[opStack.peek()] >= prec[token]):\n",
    "                  postfixList.append(opStack.pop())\n",
    "            opStack.push(token)"
   ]
  },
  {
   "cell_type": "code",
   "execution_count": 27,
   "metadata": {
    "collapsed": true,
    "slideshow": {
     "slide_type": "subslide"
    }
   },
   "outputs": [],
   "source": [
    "    while not opStack.isEmpty():\n",
    "        postfixList.append(opStack.pop())\n",
    "    return \" \".join(postfixList)"
   ]
  },
  {
   "cell_type": "code",
   "execution_count": 26,
   "metadata": {
    "slideshow": {
     "slide_type": "subslide"
    }
   },
   "outputs": [
    {
     "name": "stdout",
     "output_type": "stream",
     "text": [
      "A B * C D * +\n",
      "A B + C * D E - F G + * -\n",
      "A B C * +\n"
     ]
    }
   ],
   "source": [
    "print(infix2Postfix(\"A * B + C * D\"))\n",
    "print(infix2Postfix(\"( A + B ) * C - ( D - E ) * ( F + G )\"))\n",
    "print(infix2Postfix(\"A + B * C\"))"
   ]
  }
 ],
 "metadata": {
  "celltoolbar": "Slideshow",
  "kernelspec": {
   "display_name": "Python 3",
   "language": "python",
   "name": "python3"
  },
  "language_info": {
   "codemirror_mode": {
    "name": "ipython",
    "version": 2
   },
   "file_extension": ".py",
   "mimetype": "text/x-python",
   "name": "python",
   "nbconvert_exporter": "python",
   "pygments_lexer": "ipython2",
   "version": "2.7.12"
  },
  "widgets": {
   "state": {},
   "version": "1.0.0"
  }
 },
 "nbformat": 4,
 "nbformat_minor": 1
}
